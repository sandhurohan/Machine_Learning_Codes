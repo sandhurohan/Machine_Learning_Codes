{
 "cells": [
  {
   "cell_type": "code",
   "execution_count": 1,
   "metadata": {},
   "outputs": [
    {
     "name": "stdout",
     "output_type": "stream",
     "text": [
      "[[ 1 25  1  0  5]\n",
      " [ 2  3  4  4  5]]\n",
      "<class 'numpy.ndarray'>\n"
     ]
    },
    {
     "data": {
      "text/plain": [
       "dtype('int32')"
      ]
     },
     "execution_count": 1,
     "metadata": {},
     "output_type": "execute_result"
    }
   ],
   "source": [
    "import numpy as np\n",
    "array1=np.array([[1,25,1,0,5],[2,3,4,4,5]])\n",
    "print(array1)\n",
    "print(type(array1))\n",
    "array1.shape\n",
    "array1.dtype"
   ]
  },
  {
   "cell_type": "code",
   "execution_count": 2,
   "metadata": {},
   "outputs": [
    {
     "data": {
      "text/plain": [
       "array([[0., 0., 0., 0., 0.],\n",
       "       [0., 0., 0., 0., 0.],\n",
       "       [0., 0., 0., 0., 0.],\n",
       "       [0., 0., 0., 0., 0.],\n",
       "       [0., 0., 0., 0., 0.]])"
      ]
     },
     "execution_count": 2,
     "metadata": {},
     "output_type": "execute_result"
    }
   ],
   "source": [
    "np.zeros((5,5))"
   ]
  },
  {
   "cell_type": "code",
   "execution_count": 3,
   "metadata": {},
   "outputs": [
    {
     "data": {
      "text/plain": [
       "array([[1., 1., 1., 1.],\n",
       "       [1., 1., 1., 1.],\n",
       "       [1., 1., 1., 1.],\n",
       "       [1., 1., 1., 1.]])"
      ]
     },
     "execution_count": 3,
     "metadata": {},
     "output_type": "execute_result"
    }
   ],
   "source": [
    "np.ones((4,4))"
   ]
  },
  {
   "cell_type": "code",
   "execution_count": 4,
   "metadata": {},
   "outputs": [
    {
     "data": {
      "text/plain": [
       "array([[9.43046721e-312, 6.27463370e-322, 0.00000000e+000,\n",
       "        0.00000000e+000],\n",
       "       [7.56587583e-307, 5.30276956e+180, 6.74640243e-067,\n",
       "        6.98206173e-076],\n",
       "       [3.45932221e-086, 3.35658848e-143, 6.01433264e+175,\n",
       "        6.93885958e+218],\n",
       "       [5.56218858e+180, 3.94356143e+180, 4.69611815e-033,\n",
       "        6.59365763e-042],\n",
       "       [5.97979209e+174, 3.69567312e-033, 5.82884001e-144,\n",
       "        1.50008929e+248]])"
      ]
     },
     "execution_count": 4,
     "metadata": {},
     "output_type": "execute_result"
    }
   ],
   "source": [
    "np.empty((5,4))"
   ]
  },
  {
   "cell_type": "code",
   "execution_count": 5,
   "metadata": {},
   "outputs": [],
   "source": [
    "import numpy as np\n",
    "arr1=np.array([[7,8,61],\n",
    "               [41,87,70]])"
   ]
  },
  {
   "cell_type": "code",
   "execution_count": 6,
   "metadata": {},
   "outputs": [
    {
     "name": "stdout",
     "output_type": "stream",
     "text": [
      "[ 76 198]\n",
      "[ 48  95 131]\n"
     ]
    }
   ],
   "source": [
    "# axis 0= column #axis 1= row\n",
    "print(arr1.sum(axis=1))\n",
    "print(arr1.sum(axis=0))"
   ]
  },
  {
   "cell_type": "code",
   "execution_count": 7,
   "metadata": {},
   "outputs": [
    {
     "data": {
      "text/plain": [
       "620"
      ]
     },
     "execution_count": 7,
     "metadata": {},
     "output_type": "execute_result"
    }
   ],
   "source": [
    "len(dir(np))"
   ]
  },
  {
   "cell_type": "code",
   "execution_count": 8,
   "metadata": {},
   "outputs": [
    {
     "data": {
      "text/plain": [
       "array([[4972, 3543],\n",
       "       [9447, 7070]])"
      ]
     },
     "execution_count": 8,
     "metadata": {},
     "output_type": "execute_result"
    }
   ],
   "source": [
    "arr2=np.array([[71,18,71],\n",
    "               [51,17,50]])\n",
    "arr1.dot(arr2.transpose())"
   ]
  },
  {
   "cell_type": "code",
   "execution_count": 9,
   "metadata": {},
   "outputs": [
    {
     "name": "stdout",
     "output_type": "stream",
     "text": [
      "[[71 18 71]\n",
      " [51 17 50]]\n",
      "[[71 51]\n",
      " [18 17]\n",
      " [71 50]]\n"
     ]
    }
   ],
   "source": [
    "arr3=arr2.transpose()\n",
    "print(arr2)\n",
    "print(arr3)"
   ]
  },
  {
   "cell_type": "code",
   "execution_count": 10,
   "metadata": {},
   "outputs": [
    {
     "data": {
      "text/plain": [
       "array([[10406,  7477],\n",
       "       [ 7477,  5390]])"
      ]
     },
     "execution_count": 10,
     "metadata": {},
     "output_type": "execute_result"
    }
   ],
   "source": [
    "arr2.dot(arr3)"
   ]
  },
  {
   "cell_type": "code",
   "execution_count": 11,
   "metadata": {},
   "outputs": [
    {
     "name": "stdout",
     "output_type": "stream",
     "text": [
      "[0 1 2 3 4 5 6]\n"
     ]
    }
   ],
   "source": [
    "import numpy as np\n",
    "b=np.arange(7)\n",
    "print(b)"
   ]
  },
  {
   "cell_type": "code",
   "execution_count": 14,
   "metadata": {},
   "outputs": [
    {
     "name": "stdout",
     "output_type": "stream",
     "text": [
      "[3 0 2 1 4 6 5 7 8]\n",
      "Minimum Value : 3\n",
      "Maximum Value : 8\n"
     ]
    }
   ],
   "source": [
    "c=np.array([5,8,6,2,44,74,52,74,74])\n",
    "np.size(c)\n",
    "#c=c.reshape(5,2)\n",
    "d=np.argsort(c)\n",
    "print(d)\n",
    "for i in range(0,len(d)):\n",
    "    if i==max(d):\n",
    "        print(f\"Maximum Value : {d[i]}\")\n",
    "    if i==min(d):\n",
    "        print(f\"Minimum Value : {d[i]}\")"
   ]
  },
  {
   "cell_type": "code",
   "execution_count": 4,
   "metadata": {},
   "outputs": [
    {
     "name": "stdout",
     "output_type": "stream",
     "text": [
      "[[ 1 25  1  0  5]\n",
      " [ 2  3  4  4  5]]\n",
      "<class 'numpy.ndarray'>\n",
      "[ 76 198]\n",
      "[ 48  95 131]\n",
      "[[71 18 71]\n",
      " [51 17 50]]\n",
      "[[71 51]\n",
      " [18 17]\n",
      " [71 50]]\n",
      "[0 1 2 3 4 5 6]\n",
      "[3 0 2 1 4 6 5 7 8]\n"
     ]
    }
   ],
   "source": [
    "import numpy as np\n",
    "array1=np.array([[1,25,1,0,5],[2,3,4,4,5]])\n",
    "print(array1)\n",
    "print(type(array1))\n",
    "array1.shape\n",
    "array1.dtype\n",
    "np.zeros((5,5))\n",
    "np.ones((4,4))\n",
    "np.empty((5,4))\n",
    "arr1=np.array([[7,8,61],\n",
    "               [41,87,70]])\t\n",
    "# axis 0= column  #axis 1= row\n",
    "print(arr1.sum(axis=1))\n",
    "print(arr1.sum(axis=0))\n",
    "len(dir(np))\n",
    "arr2=np.array([[71,18,71],\n",
    "               [51,17,50]])\n",
    "arr1.dot(arr2.transpose())\n",
    "arr3=arr2.transpose()\n",
    "print(arr2)\n",
    "print(arr3)\n",
    "print(np.arange(7))\n",
    "c=np.array([5,8,6,2,44,74,52,74,74])\n",
    "np.size(c)\n",
    "print(np.argsort(c))\n"
   ]
  },
  {
   "cell_type": "code",
   "execution_count": null,
   "metadata": {},
   "outputs": [],
   "source": []
  }
 ],
 "metadata": {
  "kernelspec": {
   "display_name": "Python 3",
   "language": "python",
   "name": "python3"
  },
  "language_info": {
   "codemirror_mode": {
    "name": "ipython",
    "version": 3
   },
   "file_extension": ".py",
   "mimetype": "text/x-python",
   "name": "python",
   "nbconvert_exporter": "python",
   "pygments_lexer": "ipython3",
   "version": "3.8.5"
  }
 },
 "nbformat": 4,
 "nbformat_minor": 4
}
