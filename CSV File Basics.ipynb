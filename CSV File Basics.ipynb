{
 "cells": [
  {
   "cell_type": "code",
   "execution_count": 4,
   "metadata": {},
   "outputs": [
    {
     "data": {
      "text/html": [
       "<div>\n",
       "<style scoped>\n",
       "    .dataframe tbody tr th:only-of-type {\n",
       "        vertical-align: middle;\n",
       "    }\n",
       "\n",
       "    .dataframe tbody tr th {\n",
       "        vertical-align: top;\n",
       "    }\n",
       "\n",
       "    .dataframe thead th {\n",
       "        text-align: right;\n",
       "    }\n",
       "</style>\n",
       "<table border=\"1\" class=\"dataframe\">\n",
       "  <thead>\n",
       "    <tr style=\"text-align: right;\">\n",
       "      <th></th>\n",
       "      <th>Date</th>\n",
       "      <th>Open</th>\n",
       "      <th>High</th>\n",
       "      <th>Low</th>\n",
       "      <th>Close</th>\n",
       "      <th>Shares Traded</th>\n",
       "      <th>Turnover (Rs. Cr)</th>\n",
       "    </tr>\n",
       "  </thead>\n",
       "  <tbody>\n",
       "    <tr>\n",
       "      <th>0</th>\n",
       "      <td>02-Mar-22</td>\n",
       "      <td>16593.10</td>\n",
       "      <td>16678.50</td>\n",
       "      <td>16478.65</td>\n",
       "      <td>16605.95</td>\n",
       "      <td>517723542</td>\n",
       "      <td>39407.44</td>\n",
       "    </tr>\n",
       "    <tr>\n",
       "      <th>1</th>\n",
       "      <td>03-Mar-22</td>\n",
       "      <td>16723.20</td>\n",
       "      <td>16768.95</td>\n",
       "      <td>16442.95</td>\n",
       "      <td>16498.05</td>\n",
       "      <td>442068263</td>\n",
       "      <td>31413</td>\n",
       "    </tr>\n",
       "    <tr>\n",
       "      <th>2</th>\n",
       "      <td>04-Mar-22</td>\n",
       "      <td>16339.45</td>\n",
       "      <td>16456.00</td>\n",
       "      <td>16133.80</td>\n",
       "      <td>16245.35</td>\n",
       "      <td>456143040</td>\n",
       "      <td>34821.1</td>\n",
       "    </tr>\n",
       "    <tr>\n",
       "      <th>3</th>\n",
       "      <td>07-Mar-22</td>\n",
       "      <td>15867.95</td>\n",
       "      <td>15944.60</td>\n",
       "      <td>15711.45</td>\n",
       "      <td>15863.15</td>\n",
       "      <td>585403660</td>\n",
       "      <td>38038.75</td>\n",
       "    </tr>\n",
       "    <tr>\n",
       "      <th>4</th>\n",
       "      <td>08-Mar-22</td>\n",
       "      <td>15747.75</td>\n",
       "      <td>16028.75</td>\n",
       "      <td>15671.45</td>\n",
       "      <td>16013.45</td>\n",
       "      <td>543600673</td>\n",
       "      <td>38704.4</td>\n",
       "    </tr>\n",
       "  </tbody>\n",
       "</table>\n",
       "</div>"
      ],
      "text/plain": [
       "        Date      Open      High       Low     Close  Shares Traded  \\\n",
       "0  02-Mar-22  16593.10  16678.50  16478.65  16605.95      517723542   \n",
       "1  03-Mar-22  16723.20  16768.95  16442.95  16498.05      442068263   \n",
       "2  04-Mar-22  16339.45  16456.00  16133.80  16245.35      456143040   \n",
       "3  07-Mar-22  15867.95  15944.60  15711.45  15863.15      585403660   \n",
       "4  08-Mar-22  15747.75  16028.75  15671.45  16013.45      543600673   \n",
       "\n",
       "  Turnover (Rs. Cr)  \n",
       "0          39407.44  \n",
       "1             31413  \n",
       "2           34821.1  \n",
       "3          38038.75  \n",
       "4           38704.4  "
      ]
     },
     "execution_count": 4,
     "metadata": {},
     "output_type": "execute_result"
    }
   ],
   "source": [
    "# Reading CSV File\n",
    "import pandas as pd\n",
    "df1=pd.read_csv('data.csv')\n",
    "df1.head()"
   ]
  },
  {
   "cell_type": "code",
   "execution_count": 7,
   "metadata": {},
   "outputs": [
    {
     "name": "stdout",
     "output_type": "stream",
     "text": [
      "object\n",
      "float64\n",
      "float64\n"
     ]
    }
   ],
   "source": [
    "# To check data type of columns\n",
    "print(df1['Date'].dtype)\n",
    "print(df1['Open'].dtype)\n",
    "print(df1['Low'].dtype)"
   ]
  },
  {
   "cell_type": "code",
   "execution_count": 8,
   "metadata": {},
   "outputs": [
    {
     "data": {
      "text/plain": [
       "0     16605.95\n",
       "1     16498.05\n",
       "2     16245.35\n",
       "3     15863.15\n",
       "4     16013.45\n",
       "5     16345.35\n",
       "6     16594.90\n",
       "7     16630.45\n",
       "8     16871.30\n",
       "9     16663.00\n",
       "10    16975.35\n",
       "11    17287.05\n",
       "12    17117.60\n",
       "13    17315.50\n",
       "14    17245.65\n",
       "15    17222.75\n",
       "16    17153.00\n",
       "17    17222.00\n",
       "18    17325.30\n",
       "19    17498.25\n",
       "20    17464.75\n",
       "21    17670.45\n",
       "Name: Close, dtype: category\n",
       "Categories (22, float64): [15863.15, 16013.45, 16245.35, 16345.35, ..., 17325.30, 17464.75, 17498.25, 17670.45]"
      ]
     },
     "execution_count": 8,
     "metadata": {},
     "output_type": "execute_result"
    }
   ],
   "source": [
    "# .astype - It is used to typecaste data type\n",
    "# category - It will type caste data to list or map data to lis. It will save memory.\n",
    "df1['Close'].astype('category')"
   ]
  },
  {
   "cell_type": "code",
   "execution_count": null,
   "metadata": {},
   "outputs": [],
   "source": []
  }
 ],
 "metadata": {
  "kernelspec": {
   "display_name": "Python 3",
   "language": "python",
   "name": "python3"
  },
  "language_info": {
   "codemirror_mode": {
    "name": "ipython",
    "version": 3
   },
   "file_extension": ".py",
   "mimetype": "text/x-python",
   "name": "python",
   "nbconvert_exporter": "python",
   "pygments_lexer": "ipython3",
   "version": "3.8.5"
  }
 },
 "nbformat": 4,
 "nbformat_minor": 4
}
